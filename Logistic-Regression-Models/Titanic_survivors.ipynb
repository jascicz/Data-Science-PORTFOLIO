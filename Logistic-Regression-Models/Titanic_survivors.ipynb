{
 "cells": [
  {
   "cell_type": "markdown",
   "metadata": {},
   "source": [
    "# Logistic Regression with Python\n",
    "\n",
    "We will be working with the [Titanic Data Set from Kaggle](https://www.kaggle.com/c/titanic). This is a very famous data set and very often is a student's first step in machine learning! \n",
    "\n",
    "We'll be trying to predict a classification- survival or deceased.\n",
    "Let's begin our understanding of implementing Logistic Regression in Python for classification.\n",
    "\n",
    "We'll use a \"semi-cleaned\" version of the titanic data set, if you use the data set hosted directly on Kaggle, you may need to do some additional cleaning not shown in this lecture notebook.\n",
    "\n",
    "## Import Libraries\n",
    "Let's import some libraries to get started!"
   ]
  },
  {
   "cell_type": "code",
   "execution_count": 2,
   "metadata": {},
   "outputs": [],
   "source": [
    "import pandas as pd\n",
    "import numpy as np\n",
    "import matplotlib.pyplot as plt\n",
    "import seaborn as sns\n",
    "%matplotlib inline"
   ]
  },
  {
   "cell_type": "code",
   "execution_count": 3,
   "metadata": {},
   "outputs": [
    {
     "data": {
      "text/html": [
       "<div>\n",
       "<style scoped>\n",
       "    .dataframe tbody tr th:only-of-type {\n",
       "        vertical-align: middle;\n",
       "    }\n",
       "\n",
       "    .dataframe tbody tr th {\n",
       "        vertical-align: top;\n",
       "    }\n",
       "\n",
       "    .dataframe thead th {\n",
       "        text-align: right;\n",
       "    }\n",
       "</style>\n",
       "<table border=\"1\" class=\"dataframe\">\n",
       "  <thead>\n",
       "    <tr style=\"text-align: right;\">\n",
       "      <th></th>\n",
       "      <th>PassengerId</th>\n",
       "      <th>Survived</th>\n",
       "      <th>Pclass</th>\n",
       "      <th>Name</th>\n",
       "      <th>Sex</th>\n",
       "      <th>Age</th>\n",
       "      <th>SibSp</th>\n",
       "      <th>Parch</th>\n",
       "      <th>Ticket</th>\n",
       "      <th>Fare</th>\n",
       "      <th>Cabin</th>\n",
       "      <th>Embarked</th>\n",
       "    </tr>\n",
       "  </thead>\n",
       "  <tbody>\n",
       "    <tr>\n",
       "      <th>0</th>\n",
       "      <td>1</td>\n",
       "      <td>0</td>\n",
       "      <td>3</td>\n",
       "      <td>Braund, Mr. Owen Harris</td>\n",
       "      <td>male</td>\n",
       "      <td>22.0</td>\n",
       "      <td>1</td>\n",
       "      <td>0</td>\n",
       "      <td>A/5 21171</td>\n",
       "      <td>7.2500</td>\n",
       "      <td>NaN</td>\n",
       "      <td>S</td>\n",
       "    </tr>\n",
       "    <tr>\n",
       "      <th>1</th>\n",
       "      <td>2</td>\n",
       "      <td>1</td>\n",
       "      <td>1</td>\n",
       "      <td>Cumings, Mrs. John Bradley (Florence Briggs Th...</td>\n",
       "      <td>female</td>\n",
       "      <td>38.0</td>\n",
       "      <td>1</td>\n",
       "      <td>0</td>\n",
       "      <td>PC 17599</td>\n",
       "      <td>71.2833</td>\n",
       "      <td>C85</td>\n",
       "      <td>C</td>\n",
       "    </tr>\n",
       "    <tr>\n",
       "      <th>2</th>\n",
       "      <td>3</td>\n",
       "      <td>1</td>\n",
       "      <td>3</td>\n",
       "      <td>Heikkinen, Miss. Laina</td>\n",
       "      <td>female</td>\n",
       "      <td>26.0</td>\n",
       "      <td>0</td>\n",
       "      <td>0</td>\n",
       "      <td>STON/O2. 3101282</td>\n",
       "      <td>7.9250</td>\n",
       "      <td>NaN</td>\n",
       "      <td>S</td>\n",
       "    </tr>\n",
       "    <tr>\n",
       "      <th>3</th>\n",
       "      <td>4</td>\n",
       "      <td>1</td>\n",
       "      <td>1</td>\n",
       "      <td>Futrelle, Mrs. Jacques Heath (Lily May Peel)</td>\n",
       "      <td>female</td>\n",
       "      <td>35.0</td>\n",
       "      <td>1</td>\n",
       "      <td>0</td>\n",
       "      <td>113803</td>\n",
       "      <td>53.1000</td>\n",
       "      <td>C123</td>\n",
       "      <td>S</td>\n",
       "    </tr>\n",
       "    <tr>\n",
       "      <th>4</th>\n",
       "      <td>5</td>\n",
       "      <td>0</td>\n",
       "      <td>3</td>\n",
       "      <td>Allen, Mr. William Henry</td>\n",
       "      <td>male</td>\n",
       "      <td>35.0</td>\n",
       "      <td>0</td>\n",
       "      <td>0</td>\n",
       "      <td>373450</td>\n",
       "      <td>8.0500</td>\n",
       "      <td>NaN</td>\n",
       "      <td>S</td>\n",
       "    </tr>\n",
       "  </tbody>\n",
       "</table>\n",
       "</div>"
      ],
      "text/plain": [
       "   PassengerId  Survived  Pclass  \\\n",
       "0            1         0       3   \n",
       "1            2         1       1   \n",
       "2            3         1       3   \n",
       "3            4         1       1   \n",
       "4            5         0       3   \n",
       "\n",
       "                                                Name     Sex   Age  SibSp  \\\n",
       "0                            Braund, Mr. Owen Harris    male  22.0      1   \n",
       "1  Cumings, Mrs. John Bradley (Florence Briggs Th...  female  38.0      1   \n",
       "2                             Heikkinen, Miss. Laina  female  26.0      0   \n",
       "3       Futrelle, Mrs. Jacques Heath (Lily May Peel)  female  35.0      1   \n",
       "4                           Allen, Mr. William Henry    male  35.0      0   \n",
       "\n",
       "   Parch            Ticket     Fare Cabin Embarked  \n",
       "0      0         A/5 21171   7.2500   NaN        S  \n",
       "1      0          PC 17599  71.2833   C85        C  \n",
       "2      0  STON/O2. 3101282   7.9250   NaN        S  \n",
       "3      0            113803  53.1000  C123        S  \n",
       "4      0            373450   8.0500   NaN        S  "
      ]
     },
     "execution_count": 3,
     "metadata": {},
     "output_type": "execute_result"
    }
   ],
   "source": [
    "titanic_train = pd.read_csv('titanic_train.csv')\n",
    "train = titanic_train.copy()\n",
    "train.head()"
   ]
  },
  {
   "cell_type": "markdown",
   "metadata": {},
   "source": [
    "# Exploratory Data Analysis\n",
    "\n",
    "Let's begin some exploratory data analysis! We'll start by checking out missing data!\n",
    "\n",
    "## Missing Data\n",
    "\n",
    "We can use seaborn to create a simple heatmap to see where we are missing data!"
   ]
  },
  {
   "cell_type": "code",
   "execution_count": 4,
   "metadata": {},
   "outputs": [
    {
     "data": {
      "text/plain": [
       "<Axes: >"
      ]
     },
     "execution_count": 4,
     "metadata": {},
     "output_type": "execute_result"
    },
    {
     "data": {
      "image/png": "[encoded data removed]",
      "text/plain": [
       "<Figure size 640x480 with 1 Axes>"
      ]
     },
     "metadata": {},
     "output_type": "display_data"
    }
   ],
   "source": [
    "sns.heatmap(train.isnull(),yticklabels=False,cbar=False,cmap='coolwarm')\n"
   ]
  },
  {
   "cell_type": "markdown",
   "metadata": {},
   "source": [
    "Roughly 20 percent of the Age data is missing. The proportion of Age missing is likely small enough for reasonable replacement with some form of imputation. Looking at the Cabin column, it looks like we are just missing too much of that data to do something useful with at a basic level. We'll probably drop this later, or change it to another feature like \"Cabin Known: 1 or 0\"\n",
    "\n",
    "Let's continue on by visualizing some more of the data!"
   ]
  },
  {
   "cell_type": "code",
   "execution_count": 5,
   "metadata": {},
   "outputs": [
    {
     "data": {
      "text/plain": [
       "<Axes: xlabel='Survived', ylabel='count'>"
      ]
     },
     "execution_count": 5,
     "metadata": {},
     "output_type": "execute_result"
    },
    {
     "data": {
      "image/png": "[encoded data removed]",
      "text/plain": [
       "<Figure size 640x480 with 1 Axes>"
      ]
     },
     "metadata": {},
     "output_type": "display_data"
    }
   ],
   "source": [
    "sns.set_style('whitegrid')\n",
    "sns.countplot(x='Survived',data=train,palette='RdBu_r')"
   ]
  },
  {
   "cell_type": "code",
   "execution_count": 6,
   "metadata": {},
   "outputs": [
    {
     "data": {
      "text/plain": [
       "<Axes: xlabel='Survived', ylabel='count'>"
      ]
     },
     "execution_count": 6,
     "metadata": {},
     "output_type": "execute_result"
    },
    {
     "data": {
      "image/png": "[encoded data removed]",
      "text/plain": [
       "<Figure size 640x480 with 1 Axes>"
      ]
     },
     "metadata": {},
     "output_type": "display_data"
    }
   ],
   "source": [
    "sns.set_style('whitegrid')\n",
    "sns.countplot(x='Survived',hue='Sex',data=train,palette='RdBu_r')"
   ]
  },
  {
   "cell_type": "code",
   "execution_count": 7,
   "metadata": {},
   "outputs": [
    {
     "data": {
      "text/plain": [
       "<Axes: xlabel='Survived', ylabel='count'>"
      ]
     },
     "execution_count": 7,
     "metadata": {},
     "output_type": "execute_result"
    },
    {
     "data": {
      "image/png": "[encoded data removed]",
      "text/plain": [
       "<Figure size 640x480 with 1 Axes>"
      ]
     },
     "metadata": {},
     "output_type": "display_data"
    }
   ],
   "source": [
    "sns.set_style('whitegrid')\n",
    "sns.countplot(x='Survived',hue='Pclass',data=train,palette='rainbow')"
   ]
  },
  {
   "cell_type": "code",
   "execution_count": 8,
   "metadata": {},
   "outputs": [
    {
     "data": {
      "text/plain": [
       "<Axes: xlabel='Age', ylabel='Count'>"
      ]
     },
     "execution_count": 8,
     "metadata": {},
     "output_type": "execute_result"
    },
    {
     "data": {
      "image/png": "[encoded data removed]",
      "text/plain": [
       "<Figure size 640x480 with 1 Axes>"
      ]
     },
     "metadata": {},
     "output_type": "display_data"
    }
   ],
   "source": [
    "sns.histplot(train['Age'].dropna(),kde=False,color='darkred',bins=30)"
   ]
  },
  {
   "cell_type": "code",
   "execution_count": 9,
   "metadata": {},
   "outputs": [
    {
     "data": {
      "text/plain": [
       "<Axes: xlabel='SibSp', ylabel='count'>"
      ]
     },
     "execution_count": 9,
     "metadata": {},
     "output_type": "execute_result"
    },
    {
     "data": {
      "image/png": "[encoded data removed]",
      "text/plain": [
       "<Figure size 640x480 with 1 Axes>"
      ]
     },
     "metadata": {},
     "output_type": "display_data"
    }
   ],
   "source": [
    "sns.countplot(x='SibSp',data=train)"
   ]
  },
  {
   "cell_type": "code",
   "execution_count": 10,
   "metadata": {},
   "outputs": [
    {
     "data": {
      "text/plain": [
       "<Axes: >"
      ]
     },
     "execution_count": 10,
     "metadata": {},
     "output_type": "execute_result"
    },
    {
     "data": {
      "image/png": "[encoded data removed]",
      "text/plain": [
       "<Figure size 800x400 with 1 Axes>"
      ]
     },
     "metadata": {},
     "output_type": "display_data"
    }
   ],
   "source": [
    "train['Fare'].hist(color='green',bins=40,figsize=(8,4))"
   ]
  },
  {
   "cell_type": "markdown",
   "metadata": {},
   "source": [
    "___\n",
    "## Data Cleaning\n",
    "We want to fill in missing age data instead of just dropping the missing age data rows. One way to do this is by filling in the mean age of all the passengers (imputation).\n",
    "However we can be smarter about this and check the average age by passenger class. For example:"
   ]
  },
  {
   "cell_type": "code",
   "execution_count": 11,
   "metadata": {},
   "outputs": [
    {
     "data": {
      "text/plain": [
       "<Axes: xlabel='Pclass', ylabel='Age'>"
      ]
     },
     "execution_count": 11,
     "metadata": {},
     "output_type": "execute_result"
    },
    {
     "data": {
      "image/png": "[encoded data removed]",
      "text/plain": [
       "<Figure size 1200x700 with 1 Axes>"
      ]
     },
     "metadata": {},
     "output_type": "display_data"
    }
   ],
   "source": [
    "plt.figure(figsize=(12, 7))\n",
    "sns.boxplot(x='Pclass',y='Age',data=train,palette='winter')"
   ]
  },
  {
   "cell_type": "markdown",
   "metadata": {},
   "source": [
    "We can see the wealthier passengers in the higher classes tend to be older, which makes sense. We'll use these average age values to impute based on Pclass for Age."
   ]
  },
  {
   "cell_type": "code",
   "execution_count": 12,
   "metadata": {},
   "outputs": [
    {
     "data": {
      "text/plain": [
       "Pclass\n",
       "1    38.233441\n",
       "2    29.877630\n",
       "3    25.140620\n",
       "Name: Age, dtype: float64"
      ]
     },
     "execution_count": 12,
     "metadata": {},
     "output_type": "execute_result"
    }
   ],
   "source": [
    "train.groupby('Pclass')['Age'].mean()"
   ]
  },
  {
   "cell_type": "code",
   "execution_count": 13,
   "metadata": {},
   "outputs": [
    {
     "data": {
      "text/plain": [
       "Pclass\n",
       "1    37.0\n",
       "2    29.0\n",
       "3    24.0\n",
       "Name: Age, dtype: float64"
      ]
     },
     "execution_count": 13,
     "metadata": {},
     "output_type": "execute_result"
    }
   ],
   "source": [
    "train.groupby('Pclass')['Age'].median()"
   ]
  },
  {
   "cell_type": "code",
   "execution_count": 14,
   "metadata": {},
   "outputs": [],
   "source": [
    "def impute_age(cols):\n",
    "    Age = cols[0]\n",
    "    Pclass = cols[1]\n",
    "    \n",
    "    if pd.isnull(Age):\n",
    "\n",
    "        if Pclass == 1:\n",
    "            return 37\n",
    "\n",
    "        elif Pclass == 2:\n",
    "            return 29\n",
    "\n",
    "        else:\n",
    "            return 24\n",
    "\n",
    "    else:\n",
    "        return Age"
   ]
  },
  {
   "cell_type": "code",
   "execution_count": 15,
   "metadata": {},
   "outputs": [],
   "source": [
    "train['Age'] = train[['Age','Pclass']].apply(impute_age,axis=1)"
   ]
  },
  {
   "cell_type": "markdown",
   "metadata": {},
   "source": [
    "Now let's check that heat map again!"
   ]
  },
  {
   "cell_type": "code",
   "execution_count": 16,
   "metadata": {},
   "outputs": [
    {
     "data": {
      "text/plain": [
       "<Axes: >"
      ]
     },
     "execution_count": 16,
     "metadata": {},
     "output_type": "execute_result"
    },
    {
     "data": {
      "image/png": "[encoded data removed]",
      "text/plain": [
       "<Figure size 640x480 with 1 Axes>"
      ]
     },
     "metadata": {},
     "output_type": "display_data"
    }
   ],
   "source": [
    "sns.heatmap(train.isnull(),yticklabels=False,cbar=False,cmap='coolwarm')"
   ]
  },
  {
   "cell_type": "markdown",
   "metadata": {},
   "source": [
    "Great! Let's go ahead and drop the Cabin column and the row in Embarked that is NaN."
   ]
  },
  {
   "cell_type": "code",
   "execution_count": 17,
   "metadata": {},
   "outputs": [
    {
     "data": {
      "text/html": [
       "<div>\n",
       "<style scoped>\n",
       "    .dataframe tbody tr th:only-of-type {\n",
       "        vertical-align: middle;\n",
       "    }\n",
       "\n",
       "    .dataframe tbody tr th {\n",
       "        vertical-align: top;\n",
       "    }\n",
       "\n",
       "    .dataframe thead th {\n",
       "        text-align: right;\n",
       "    }\n",
       "</style>\n",
       "<table border=\"1\" class=\"dataframe\">\n",
       "  <thead>\n",
       "    <tr style=\"text-align: right;\">\n",
       "      <th></th>\n",
       "      <th>PassengerId</th>\n",
       "      <th>Survived</th>\n",
       "      <th>Pclass</th>\n",
       "      <th>Name</th>\n",
       "      <th>Sex</th>\n",
       "      <th>Age</th>\n",
       "      <th>SibSp</th>\n",
       "      <th>Parch</th>\n",
       "      <th>Ticket</th>\n",
       "      <th>Fare</th>\n",
       "      <th>Embarked</th>\n",
       "    </tr>\n",
       "  </thead>\n",
       "  <tbody>\n",
       "    <tr>\n",
       "      <th>0</th>\n",
       "      <td>1</td>\n",
       "      <td>0</td>\n",
       "      <td>3</td>\n",
       "      <td>Braund, Mr. Owen Harris</td>\n",
       "      <td>male</td>\n",
       "      <td>22.0</td>\n",
       "      <td>1</td>\n",
       "      <td>0</td>\n",
       "      <td>A/5 21171</td>\n",
       "      <td>7.2500</td>\n",
       "      <td>S</td>\n",
       "    </tr>\n",
       "    <tr>\n",
       "      <th>1</th>\n",
       "      <td>2</td>\n",
       "      <td>1</td>\n",
       "      <td>1</td>\n",
       "      <td>Cumings, Mrs. John Bradley (Florence Briggs Th...</td>\n",
       "      <td>female</td>\n",
       "      <td>38.0</td>\n",
       "      <td>1</td>\n",
       "      <td>0</td>\n",
       "      <td>PC 17599</td>\n",
       "      <td>71.2833</td>\n",
       "      <td>C</td>\n",
       "    </tr>\n",
       "    <tr>\n",
       "      <th>2</th>\n",
       "      <td>3</td>\n",
       "      <td>1</td>\n",
       "      <td>3</td>\n",
       "      <td>Heikkinen, Miss. Laina</td>\n",
       "      <td>female</td>\n",
       "      <td>26.0</td>\n",
       "      <td>0</td>\n",
       "      <td>0</td>\n",
       "      <td>STON/O2. 3101282</td>\n",
       "      <td>7.9250</td>\n",
       "      <td>S</td>\n",
       "    </tr>\n",
       "    <tr>\n",
       "      <th>3</th>\n",
       "      <td>4</td>\n",
       "      <td>1</td>\n",
       "      <td>1</td>\n",
       "      <td>Futrelle, Mrs. Jacques Heath (Lily May Peel)</td>\n",
       "      <td>female</td>\n",
       "      <td>35.0</td>\n",
       "      <td>1</td>\n",
       "      <td>0</td>\n",
       "      <td>113803</td>\n",
       "      <td>53.1000</td>\n",
       "      <td>S</td>\n",
       "    </tr>\n",
       "    <tr>\n",
       "      <th>4</th>\n",
       "      <td>5</td>\n",
       "      <td>0</td>\n",
       "      <td>3</td>\n",
       "      <td>Allen, Mr. William Henry</td>\n",
       "      <td>male</td>\n",
       "      <td>35.0</td>\n",
       "      <td>0</td>\n",
       "      <td>0</td>\n",
       "      <td>373450</td>\n",
       "      <td>8.0500</td>\n",
       "      <td>S</td>\n",
       "    </tr>\n",
       "  </tbody>\n",
       "</table>\n",
       "</div>"
      ],
      "text/plain": [
       "   PassengerId  Survived  Pclass  \\\n",
       "0            1         0       3   \n",
       "1            2         1       1   \n",
       "2            3         1       3   \n",
       "3            4         1       1   \n",
       "4            5         0       3   \n",
       "\n",
       "                                                Name     Sex   Age  SibSp  \\\n",
       "0                            Braund, Mr. Owen Harris    male  22.0      1   \n",
       "1  Cumings, Mrs. John Bradley (Florence Briggs Th...  female  38.0      1   \n",
       "2                             Heikkinen, Miss. Laina  female  26.0      0   \n",
       "3       Futrelle, Mrs. Jacques Heath (Lily May Peel)  female  35.0      1   \n",
       "4                           Allen, Mr. William Henry    male  35.0      0   \n",
       "\n",
       "   Parch            Ticket     Fare Embarked  \n",
       "0      0         A/5 21171   7.2500        S  \n",
       "1      0          PC 17599  71.2833        C  \n",
       "2      0  STON/O2. 3101282   7.9250        S  \n",
       "3      0            113803  53.1000        S  \n",
       "4      0            373450   8.0500        S  "
      ]
     },
     "execution_count": 17,
     "metadata": {},
     "output_type": "execute_result"
    }
   ],
   "source": [
    "train.drop('Cabin',axis=1,inplace=True)\n",
    "train.dropna(inplace=True)\n",
    "train.head()"
   ]
  },
  {
   "cell_type": "markdown",
   "metadata": {},
   "source": [
    "## Converting Categorical Features \n",
    "\n",
    "We'll need to convert categorical features to dummy variables using pandas! Otherwise our machine learning algorithm won't be able to directly take in those features as inputs."
   ]
  },
  {
   "cell_type": "code",
   "execution_count": 18,
   "metadata": {},
   "outputs": [
    {
     "name": "stdout",
     "output_type": "stream",
     "text": [
      "<class 'pandas.core.frame.DataFrame'>\n",
      "Index: 889 entries, 0 to 890\n",
      "Data columns (total 11 columns):\n",
      " #   Column       Non-Null Count  Dtype  \n",
      "---  ------       --------------  -----  \n",
      " 0   PassengerId  889 non-null    int64  \n",
      " 1   Survived     889 non-null    int64  \n",
      " 2   Pclass       889 non-null    int64  \n",
      " 3   Name         889 non-null    object \n",
      " 4   Sex          889 non-null    object \n",
      " 5   Age          889 non-null    float64\n",
      " 6   SibSp        889 non-null    int64  \n",
      " 7   Parch        889 non-null    int64  \n",
      " 8   Ticket       889 non-null    object \n",
      " 9   Fare         889 non-null    float64\n",
      " 10  Embarked     889 non-null    object \n",
      "dtypes: float64(2), int64(5), object(4)\n",
      "memory usage: 83.3+ KB\n"
     ]
    }
   ],
   "source": [
    "train.info()"
   ]
  },
  {
   "cell_type": "code",
   "execution_count": 19,
   "metadata": {},
   "outputs": [
    {
     "data": {
      "text/html": [
       "<div>\n",
       "<style scoped>\n",
       "    .dataframe tbody tr th:only-of-type {\n",
       "        vertical-align: middle;\n",
       "    }\n",
       "\n",
       "    .dataframe tbody tr th {\n",
       "        vertical-align: top;\n",
       "    }\n",
       "\n",
       "    .dataframe thead th {\n",
       "        text-align: right;\n",
       "    }\n",
       "</style>\n",
       "<table border=\"1\" class=\"dataframe\">\n",
       "  <thead>\n",
       "    <tr style=\"text-align: right;\">\n",
       "      <th></th>\n",
       "      <th>PassengerId</th>\n",
       "      <th>Survived</th>\n",
       "      <th>Pclass</th>\n",
       "      <th>Age</th>\n",
       "      <th>SibSp</th>\n",
       "      <th>Parch</th>\n",
       "      <th>Fare</th>\n",
       "      <th>male</th>\n",
       "      <th>Q</th>\n",
       "      <th>S</th>\n",
       "    </tr>\n",
       "  </thead>\n",
       "  <tbody>\n",
       "    <tr>\n",
       "      <th>0</th>\n",
       "      <td>1</td>\n",
       "      <td>0</td>\n",
       "      <td>3</td>\n",
       "      <td>22.0</td>\n",
       "      <td>1</td>\n",
       "      <td>0</td>\n",
       "      <td>7.2500</td>\n",
       "      <td>True</td>\n",
       "      <td>False</td>\n",
       "      <td>True</td>\n",
       "    </tr>\n",
       "    <tr>\n",
       "      <th>1</th>\n",
       "      <td>2</td>\n",
       "      <td>1</td>\n",
       "      <td>1</td>\n",
       "      <td>38.0</td>\n",
       "      <td>1</td>\n",
       "      <td>0</td>\n",
       "      <td>71.2833</td>\n",
       "      <td>False</td>\n",
       "      <td>False</td>\n",
       "      <td>False</td>\n",
       "    </tr>\n",
       "    <tr>\n",
       "      <th>2</th>\n",
       "      <td>3</td>\n",
       "      <td>1</td>\n",
       "      <td>3</td>\n",
       "      <td>26.0</td>\n",
       "      <td>0</td>\n",
       "      <td>0</td>\n",
       "      <td>7.9250</td>\n",
       "      <td>False</td>\n",
       "      <td>False</td>\n",
       "      <td>True</td>\n",
       "    </tr>\n",
       "    <tr>\n",
       "      <th>3</th>\n",
       "      <td>4</td>\n",
       "      <td>1</td>\n",
       "      <td>1</td>\n",
       "      <td>35.0</td>\n",
       "      <td>1</td>\n",
       "      <td>0</td>\n",
       "      <td>53.1000</td>\n",
       "      <td>False</td>\n",
       "      <td>False</td>\n",
       "      <td>True</td>\n",
       "    </tr>\n",
       "    <tr>\n",
       "      <th>4</th>\n",
       "      <td>5</td>\n",
       "      <td>0</td>\n",
       "      <td>3</td>\n",
       "      <td>35.0</td>\n",
       "      <td>0</td>\n",
       "      <td>0</td>\n",
       "      <td>8.0500</td>\n",
       "      <td>True</td>\n",
       "      <td>False</td>\n",
       "      <td>True</td>\n",
       "    </tr>\n",
       "  </tbody>\n",
       "</table>\n",
       "</div>"
      ],
      "text/plain": [
       "   PassengerId  Survived  Pclass   Age  SibSp  Parch     Fare   male      Q  \\\n",
       "0            1         0       3  22.0      1      0   7.2500   True  False   \n",
       "1            2         1       1  38.0      1      0  71.2833  False  False   \n",
       "2            3         1       3  26.0      0      0   7.9250  False  False   \n",
       "3            4         1       1  35.0      1      0  53.1000  False  False   \n",
       "4            5         0       3  35.0      0      0   8.0500   True  False   \n",
       "\n",
       "       S  \n",
       "0   True  \n",
       "1  False  \n",
       "2   True  \n",
       "3   True  \n",
       "4   True  "
      ]
     },
     "execution_count": 19,
     "metadata": {},
     "output_type": "execute_result"
    }
   ],
   "source": [
    "sex = pd.get_dummies(train['Sex'],drop_first=True)\n",
    "embark = pd.get_dummies(train['Embarked'],drop_first=True)\n",
    "train.drop(['Sex','Embarked','Name','Ticket'],axis=1,inplace=True)\n",
    "train = pd.concat([train,sex,embark],axis=1)\n",
    "train.head()"
   ]
  },
  {
   "cell_type": "markdown",
   "metadata": {},
   "source": [
    "Great! Our data is ready for our model!\n",
    "\n",
    "# Building a Logistic Regression model\n",
    "\n",
    "Let's start by splitting our data into a training set and test set (there is another test.csv file that you can play around with in case you want to use all this data for training).\n",
    "\n",
    "## Train Test Split"
   ]
  },
  {
   "cell_type": "code",
   "execution_count": 20,
   "metadata": {},
   "outputs": [],
   "source": [
    "from sklearn.model_selection import train_test_split\n",
    "\n",
    "X = train.drop('Survived',axis=1)\n",
    "y = train['Survived']\n",
    "\n",
    "X_train, X_test, y_train, y_test = train_test_split(X, y, test_size=0.30, random_state=101)"
   ]
  },
  {
   "cell_type": "markdown",
   "metadata": {},
   "source": [
    "## Training and Predicting"
   ]
  },
  {
   "cell_type": "code",
   "execution_count": 25,
   "metadata": {},
   "outputs": [
    {
     "name": "stderr",
     "output_type": "stream",
     "text": [
      "/Users/claudiacastro/anaconda3/lib/python3.11/site-packages/sklearn/linear_model/_logistic.py:460: ConvergenceWarning: lbfgs failed to converge (status=1):\n",
      "STOP: TOTAL NO. of ITERATIONS REACHED LIMIT.\n",
      "\n",
      "Increase the number of iterations (max_iter) or scale the data as shown in:\n",
      "    https://scikit-learn.org/stable/modules/preprocessing.html\n",
      "Please also refer to the documentation for alternative solver options:\n",
      "    https://scikit-learn.org/stable/modules/linear_model.html#logistic-regression\n",
      "  n_iter_i = _check_optimize_result(\n"
     ]
    },
    {
     "data": {
      "text/html": [
       "<div>\n",
       "<style scoped>\n",
       "    .dataframe tbody tr th:only-of-type {\n",
       "        vertical-align: middle;\n",
       "    }\n",
       "\n",
       "    .dataframe tbody tr th {\n",
       "        vertical-align: top;\n",
       "    }\n",
       "\n",
       "    .dataframe thead th {\n",
       "        text-align: right;\n",
       "    }\n",
       "</style>\n",
       "<table border=\"1\" class=\"dataframe\">\n",
       "  <thead>\n",
       "    <tr style=\"text-align: right;\">\n",
       "      <th></th>\n",
       "      <th>Coefficients</th>\n",
       "    </tr>\n",
       "  </thead>\n",
       "  <tbody>\n",
       "    <tr>\n",
       "      <th>PassengerId</th>\n",
       "      <td>0.000305</td>\n",
       "    </tr>\n",
       "    <tr>\n",
       "      <th>Pclass</th>\n",
       "      <td>-0.886028</td>\n",
       "    </tr>\n",
       "    <tr>\n",
       "      <th>Age</th>\n",
       "      <td>-0.029015</td>\n",
       "    </tr>\n",
       "    <tr>\n",
       "      <th>SibSp</th>\n",
       "      <td>-0.331649</td>\n",
       "    </tr>\n",
       "    <tr>\n",
       "      <th>Parch</th>\n",
       "      <td>-0.039274</td>\n",
       "    </tr>\n",
       "    <tr>\n",
       "      <th>Fare</th>\n",
       "      <td>0.004763</td>\n",
       "    </tr>\n",
       "    <tr>\n",
       "      <th>male</th>\n",
       "      <td>-2.503254</td>\n",
       "    </tr>\n",
       "    <tr>\n",
       "      <th>Q</th>\n",
       "      <td>-0.028376</td>\n",
       "    </tr>\n",
       "    <tr>\n",
       "      <th>S</th>\n",
       "      <td>0.390151</td>\n",
       "    </tr>\n",
       "    <tr>\n",
       "      <th>INTERCEPT</th>\n",
       "      <td>3.433609</td>\n",
       "    </tr>\n",
       "  </tbody>\n",
       "</table>\n",
       "</div>"
      ],
      "text/plain": [
       "             Coefficients\n",
       "PassengerId      0.000305\n",
       "Pclass          -0.886028\n",
       "Age             -0.029015\n",
       "SibSp           -0.331649\n",
       "Parch           -0.039274\n",
       "Fare             0.004763\n",
       "male            -2.503254\n",
       "Q               -0.028376\n",
       "S                0.390151\n",
       "INTERCEPT        3.433609"
      ]
     },
     "execution_count": 25,
     "metadata": {},
     "output_type": "execute_result"
    }
   ],
   "source": [
    "from sklearn.linear_model import LogisticRegression\n",
    "\n",
    "logmodel = LogisticRegression()\n",
    "logmodel.fit(X_train,y_train)\n",
    "logmodel.coef_\n",
    "logmodel.intercept_\n",
    "cdf = pd.DataFrame(logmodel.coef_.reshape((9,1)), X_train.columns, columns=['Coefficients'])\n",
    "cdf.loc['INTERCEPT'] = logmodel.intercept_\n",
    "cdf"
   ]
  },
  {
   "cell_type": "code",
   "execution_count": 29,
   "metadata": {},
   "outputs": [
    {
     "name": "stdout",
     "output_type": "stream",
     "text": [
      "[[0.86288476 0.13711524]\n",
      " [0.90276307 0.09723693]\n",
      " [0.19114179 0.80885821]\n",
      " [0.10893288 0.89106712]\n",
      " [0.89654148 0.10345852]\n",
      " [0.94598266 0.05401734]\n",
      " [0.81945194 0.18054806]\n",
      " [0.75626419 0.24373581]\n",
      " [0.8935204  0.1064796 ]\n",
      " [0.53325942 0.46674058]\n",
      " [0.18674815 0.81325185]\n",
      " [0.10087659 0.89912341]\n",
      " [0.85765823 0.14234177]\n",
      " [0.5364167  0.4635833 ]\n",
      " [0.8486025  0.1513975 ]\n",
      " [0.84356434 0.15643566]\n",
      " [0.06595258 0.93404742]\n",
      " [0.23622685 0.76377315]\n",
      " [0.43615819 0.56384181]\n",
      " [0.87923248 0.12076752]\n",
      " [0.87481205 0.12518795]\n",
      " [0.8929037  0.1070963 ]\n",
      " [0.58521051 0.41478949]\n",
      " [0.65649155 0.34350845]\n",
      " [0.95098745 0.04901255]\n",
      " [0.55145659 0.44854341]\n",
      " [0.55776495 0.44223505]\n",
      " [0.56899854 0.43100146]\n",
      " [0.9110889  0.0889111 ]\n",
      " [0.70680968 0.29319032]\n",
      " [0.89470139 0.10529861]\n",
      " [0.55448421 0.44551579]\n",
      " [0.98707121 0.01292879]\n",
      " [0.88114757 0.11885243]\n",
      " [0.86308872 0.13691128]\n",
      " [0.91788749 0.08211251]\n",
      " [0.22554715 0.77445285]\n",
      " [0.90939795 0.09060205]\n",
      " [0.95417821 0.04582179]\n",
      " [0.83473956 0.16526044]\n",
      " [0.40877869 0.59122131]\n",
      " [0.82222462 0.17777538]\n",
      " [0.85632973 0.14367027]\n",
      " [0.07763887 0.92236113]\n",
      " [0.31319441 0.68680559]\n",
      " [0.84295381 0.15704619]\n",
      " [0.43291727 0.56708273]\n",
      " [0.11319195 0.88680805]\n",
      " [0.8616495  0.1383505 ]\n",
      " [0.69470366 0.30529634]\n",
      " [0.52997553 0.47002447]\n",
      " [0.17515695 0.82484305]\n",
      " [0.83415639 0.16584361]\n",
      " [0.83251179 0.16748821]\n",
      " [0.85981167 0.14018833]\n",
      " [0.91445656 0.08554344]\n",
      " [0.57898522 0.42101478]\n",
      " [0.89057109 0.10942891]\n",
      " [0.9105887  0.0894113 ]\n",
      " [0.1358682  0.8641318 ]\n",
      " [0.53743165 0.46256835]\n",
      " [0.05240086 0.94759914]\n",
      " [0.10446898 0.89553102]\n",
      " [0.88715589 0.11284411]\n",
      " [0.80817149 0.19182851]\n",
      " [0.93103506 0.06896494]\n",
      " [0.86336058 0.13663942]\n",
      " [0.56014701 0.43985299]\n",
      " [0.92893171 0.07106829]\n",
      " [0.9307958  0.0692042 ]\n",
      " [0.58162281 0.41837719]\n",
      " [0.91516347 0.08483653]\n",
      " [0.33696589 0.66303411]\n",
      " [0.1026835  0.8973165 ]\n",
      " [0.93899744 0.06100256]\n",
      " [0.4401586  0.5598414 ]\n",
      " [0.90302063 0.09697937]\n",
      " [0.89353739 0.10646261]\n",
      " [0.88371471 0.11628529]\n",
      " [0.70747979 0.29252021]\n",
      " [0.61515033 0.38484967]\n",
      " [0.58415581 0.41584419]\n",
      " [0.6272641  0.3727359 ]\n",
      " [0.86441034 0.13558966]\n",
      " [0.68251604 0.31748396]\n",
      " [0.3075344  0.6924656 ]\n",
      " [0.89025542 0.10974458]\n",
      " [0.16487651 0.83512349]\n",
      " [0.92034516 0.07965484]\n",
      " [0.1549735  0.8450265 ]\n",
      " [0.37762649 0.62237351]\n",
      " [0.41108229 0.58891771]\n",
      " [0.89201748 0.10798252]\n",
      " [0.95032466 0.04967534]\n",
      " [0.71935364 0.28064636]\n",
      " [0.07189256 0.92810744]\n",
      " [0.2949367  0.7050633 ]\n",
      " [0.66457384 0.33542616]\n",
      " [0.91477408 0.08522592]\n",
      " [0.21765446 0.78234554]\n",
      " [0.82541915 0.17458085]\n",
      " [0.20678948 0.79321052]\n",
      " [0.89792069 0.10207931]\n",
      " [0.83388008 0.16611992]\n",
      " [0.47097496 0.52902504]\n",
      " [0.8769623  0.1230377 ]\n",
      " [0.09160922 0.90839078]\n",
      " [0.57897607 0.42102393]\n",
      " [0.71528417 0.28471583]\n",
      " [0.61133138 0.38866862]\n",
      " [0.93659226 0.06340774]\n",
      " [0.66199707 0.33800293]\n",
      " [0.17538656 0.82461344]\n",
      " [0.19442833 0.80557167]\n",
      " [0.87709758 0.12290242]\n",
      " [0.06332085 0.93667915]\n",
      " [0.82716621 0.17283379]\n",
      " [0.91605707 0.08394293]\n",
      " [0.22384702 0.77615298]\n",
      " [0.2798163  0.7201837 ]\n",
      " [0.48994258 0.51005742]\n",
      " [0.85063137 0.14936863]\n",
      " [0.86164851 0.13835149]\n",
      " [0.80531794 0.19468206]\n",
      " [0.86484005 0.13515995]\n",
      " [0.81659323 0.18340677]\n",
      " [0.42892095 0.57107905]\n",
      " [0.59625482 0.40374518]\n",
      " [0.25540788 0.74459212]\n",
      " [0.15522495 0.84477505]\n",
      " [0.76939549 0.23060451]\n",
      " [0.6708026  0.3291974 ]\n",
      " [0.13871439 0.86128561]\n",
      " [0.573405   0.426595  ]\n",
      " [0.90963065 0.09036935]\n",
      " [0.91143924 0.08856076]\n",
      " [0.90938682 0.09061318]\n",
      " [0.90839212 0.09160788]\n",
      " [0.60610419 0.39389581]\n",
      " [0.84161141 0.15838859]\n",
      " [0.90589086 0.09410914]\n",
      " [0.86710188 0.13289812]\n",
      " [0.7247253  0.2752747 ]\n",
      " [0.91052712 0.08947288]\n",
      " [0.56297201 0.43702799]\n",
      " [0.40636643 0.59363357]\n",
      " [0.84652327 0.15347673]\n",
      " [0.63423325 0.36576675]\n",
      " [0.7938461  0.2061539 ]\n",
      " [0.1809712  0.8190288 ]\n",
      " [0.85731861 0.14268139]\n",
      " [0.23132384 0.76867616]\n",
      " [0.32079034 0.67920966]\n",
      " [0.17693268 0.82306732]\n",
      " [0.80247242 0.19752758]\n",
      " [0.70385733 0.29614267]\n",
      " [0.55021365 0.44978635]\n",
      " [0.92091905 0.07908095]\n",
      " [0.12973543 0.87026457]\n",
      " [0.80153404 0.19846596]\n",
      " [0.89728991 0.10271009]\n",
      " [0.8691958  0.1308042 ]\n",
      " [0.88290109 0.11709891]\n",
      " [0.5279537  0.4720463 ]\n",
      " [0.88039619 0.11960381]\n",
      " [0.59675313 0.40324687]\n",
      " [0.76294101 0.23705899]\n",
      " [0.90797773 0.09202227]\n",
      " [0.82778699 0.17221301]\n",
      " [0.85012334 0.14987666]\n",
      " [0.45524712 0.54475288]\n",
      " [0.81920103 0.18079897]\n",
      " [0.11623395 0.88376605]\n",
      " [0.75672096 0.24327904]\n",
      " [0.83706861 0.16293139]\n",
      " [0.8678425  0.1321575 ]\n",
      " [0.66539049 0.33460951]\n",
      " [0.86714474 0.13285526]\n",
      " [0.08823998 0.91176002]\n",
      " [0.5922958  0.4077042 ]\n",
      " [0.47173287 0.52826713]\n",
      " [0.90041691 0.09958309]\n",
      " [0.60898206 0.39101794]\n",
      " [0.4232001  0.5767999 ]\n",
      " [0.86401306 0.13598694]\n",
      " [0.44172412 0.55827588]\n",
      " [0.26957224 0.73042776]\n",
      " [0.81587203 0.18412797]\n",
      " [0.88807569 0.11192431]\n",
      " [0.82055808 0.17944192]\n",
      " [0.87391377 0.12608623]\n",
      " [0.46875203 0.53124797]\n",
      " [0.34646382 0.65353618]\n",
      " [0.85240228 0.14759772]\n",
      " [0.90024016 0.09975984]\n",
      " [0.74978246 0.25021754]\n",
      " [0.40463128 0.59536872]\n",
      " [0.95915108 0.04084892]\n",
      " [0.91688935 0.08311065]\n",
      " [0.48226664 0.51773336]\n",
      " [0.58516692 0.41483308]\n",
      " [0.45919248 0.54080752]\n",
      " [0.09900841 0.90099159]\n",
      " [0.90658627 0.09341373]\n",
      " [0.30729994 0.69270006]\n",
      " [0.85815642 0.14184358]\n",
      " [0.91719233 0.08280767]\n",
      " [0.86689429 0.13310571]\n",
      " [0.91236579 0.08763421]\n",
      " [0.83942396 0.16057604]\n",
      " [0.69890012 0.30109988]\n",
      " [0.89431813 0.10568187]\n",
      " [0.36565024 0.63434976]\n",
      " [0.61397676 0.38602324]\n",
      " [0.74363583 0.25636417]\n",
      " [0.13418722 0.86581278]\n",
      " [0.3382875  0.6617125 ]\n",
      " [0.90435122 0.09564878]\n",
      " [0.84994589 0.15005411]\n",
      " [0.82511752 0.17488248]\n",
      " [0.24371932 0.75628068]\n",
      " [0.88210435 0.11789565]\n",
      " [0.82577185 0.17422815]\n",
      " [0.8766293  0.1233707 ]\n",
      " [0.26050934 0.73949066]\n",
      " [0.72449241 0.27550759]\n",
      " [0.76257063 0.23742937]\n",
      " [0.4355713  0.5644287 ]\n",
      " [0.82671503 0.17328497]\n",
      " [0.85454011 0.14545989]\n",
      " [0.46094566 0.53905434]\n",
      " [0.84268527 0.15731473]\n",
      " [0.86099772 0.13900228]\n",
      " [0.90268506 0.09731494]\n",
      " [0.23486726 0.76513274]\n",
      " [0.09352898 0.90647102]\n",
      " [0.4755788  0.5244212 ]\n",
      " [0.82115933 0.17884067]\n",
      " [0.23701671 0.76298329]\n",
      " [0.69695342 0.30304658]\n",
      " [0.84977042 0.15022958]\n",
      " [0.78151351 0.21848649]\n",
      " [0.70756747 0.29243253]\n",
      " [0.88502637 0.11497363]\n",
      " [0.29381974 0.70618026]\n",
      " [0.90087715 0.09912285]\n",
      " [0.88432667 0.11567333]\n",
      " [0.66486446 0.33513554]\n",
      " [0.49816412 0.50183588]\n",
      " [0.18855552 0.81144448]\n",
      " [0.91619275 0.08380725]\n",
      " [0.31246234 0.68753766]\n",
      " [0.60079535 0.39920465]\n",
      " [0.76177197 0.23822803]\n",
      " [0.76054301 0.23945699]\n",
      " [0.91620667 0.08379333]\n",
      " [0.89215296 0.10784704]\n",
      " [0.92055707 0.07944293]\n",
      " [0.92379599 0.07620401]\n",
      " [0.16323109 0.83676891]\n",
      " [0.31760427 0.68239573]\n",
      " [0.91037826 0.08962174]\n",
      " [0.84413341 0.15586659]\n",
      " [0.89685359 0.10314641]\n",
      " [0.74449328 0.25550672]\n",
      " [0.12083656 0.87916344]\n",
      " [0.46068401 0.53931599]]\n"
     ]
    },
    {
     "data": {
      "text/plain": [
       "array([0, 0, 1, 1, 0, 0, 0, 0, 0, 0, 1, 1, 0, 0, 0, 0, 1, 1, 1, 0, 0, 0,\n",
       "       0, 0, 0, 0, 0, 0, 0, 0, 0, 0, 0, 0, 0, 0, 1, 0, 0, 0, 1, 0, 0, 1,\n",
       "       1, 0, 1, 1, 0, 0, 0, 1, 0, 0, 0, 0, 0, 0, 0, 1, 0, 1, 1, 0, 0, 0,\n",
       "       0, 0, 0, 0, 0, 0, 1, 1, 0, 1, 0, 0, 0, 0, 0, 0, 0, 0, 0, 1, 0, 1,\n",
       "       0, 1, 1, 1, 0, 0, 0, 1, 1, 0, 0, 1, 0, 1, 0, 0, 1, 0, 1, 0, 0, 0,\n",
       "       0, 0, 1, 1, 0, 1, 0, 0, 1, 1, 1, 0, 0, 0, 0, 0, 1, 0, 1, 1, 0, 0,\n",
       "       1, 0, 0, 0, 0, 0, 0, 0, 0, 0, 0, 0, 0, 1, 0, 0, 0, 1, 0, 1, 1, 1,\n",
       "       0, 0, 0, 0, 1, 0, 0, 0, 0, 0, 0, 0, 0, 0, 0, 0, 1, 0, 1, 0, 0, 0,\n",
       "       0, 0, 1, 0, 1, 0, 0, 1, 0, 1, 1, 0, 0, 0, 0, 1, 1, 0, 0, 0, 1, 0,\n",
       "       0, 1, 0, 1, 1, 0, 1, 0, 0, 0, 0, 0, 0, 0, 1, 0, 0, 1, 1, 0, 0, 0,\n",
       "       1, 0, 0, 0, 1, 0, 0, 1, 0, 0, 1, 0, 0, 0, 1, 1, 1, 0, 1, 0, 0, 0,\n",
       "       0, 0, 1, 0, 0, 0, 1, 1, 0, 1, 0, 0, 0, 0, 0, 0, 0, 1, 1, 0, 0, 0,\n",
       "       0, 1, 1])"
      ]
     },
     "execution_count": 29,
     "metadata": {},
     "output_type": "execute_result"
    }
   ],
   "source": [
    "print(logmodel.predict_proba(X_test))\n",
    "predictions = logmodel.predict(X_test)\n",
    "predictions"
   ]
  },
  {
   "cell_type": "markdown",
   "metadata": {},
   "source": [
    "NOTA: \n",
    "\n",
    "* Un modelo de regresión logística trabaja prácticamente como un modelo de regresión lineal, es decir, se obtienen los coeficientes e intercepto a través de una regresión lineal multiple, para luego usarlos en la funcion OSigmoide que es la funcion característica de la regresión logística y así obtener valores de probabilidades, es decir, entre 0 y 1.\n",
    "\n",
    "* El resultado de la función logística se almacena en **logmodel.predict_proba(X_test)** en la posición 1, y en la posición 0 se almacena simplemente la diferencia con respecto a 1, para luego decir: el valor de la posicion 1 es mayor que 0.5 pues toma valor 1 (Sobrevivió), es menor que 0.5 pues toma valor 0(No Sobrevivió) y queda reflejado en **logmodel.predict(X_test)**"
   ]
  },
  {
   "cell_type": "markdown",
   "metadata": {},
   "source": [
    "---\n",
    "NOTE:\n",
    "\n",
    "* A logistic regression model works much like a linear regression model, that is, coefficients and intercept are obtained through multiple linear regression, and then used in the Sigmoid function, which is the characteristic function of logistic regression, to obtain probability values, between 0 and 1.\n",
    "\n",
    "* The result of the logistic function is stored in **logmodel.predict_proba(X_test)** at position 1, and at position 0, it simply stores the difference with respect to 1. Then, if the value at position 1 is greater than 0.5, it is assigned a value of 1 (Survived). If it is less than 0.5, it is assigned a value of 0 (Did Not Survive), which is reflected in **logmodel.predict(X_test).**"
   ]
  },
  {
   "cell_type": "markdown",
   "metadata": {},
   "source": [
    "---\n",
    "Let's move on to evaluate our model!\n",
    "\n",
    "## Evaluation\n",
    "\n",
    "We can check precision,recall,f1-score using classification report!"
   ]
  },
  {
   "cell_type": "code",
   "execution_count": 30,
   "metadata": {},
   "outputs": [
    {
     "name": "stdout",
     "output_type": "stream",
     "text": [
      "              precision    recall  f1-score   support\n",
      "\n",
      "           0       0.79      0.91      0.85       163\n",
      "           1       0.81      0.62      0.71       104\n",
      "\n",
      "    accuracy                           0.80       267\n",
      "   macro avg       0.80      0.77      0.78       267\n",
      "weighted avg       0.80      0.80      0.79       267\n",
      "\n"
     ]
    }
   ],
   "source": [
    "from sklearn.metrics import classification_report\n",
    "\n",
    "print(classification_report(y_test,predictions))"
   ]
  },
  {
   "cell_type": "markdown",
   "metadata": {},
   "source": [
    "En resumen, el modelo parece tener un rendimiento general decente, con una precisión global del 80%. Sin embargo, muestra una capacidad mejor para identificar correctamente la clase 0 (No Sobrevivió) en comparación con la clase 1 (Sobrevivió), como lo indican las métricas más altas de precisión y recall para la clase 0, ya que un recall de 0.91 para la clase 0 significa que el modelo pudo identificar correctamente el 91% de todas las instancias reales de la clase 0, pero para la clase 1, el recall es de 0.62, indicando que solo pudo identificar correctamente el 62% de todas las instancias reales de la clase 1."
   ]
  },
  {
   "cell_type": "markdown",
   "metadata": {},
   "source": [
    "---\n",
    "The model appears to have a decent overall performance, with an overall accuracy of 80%. However, it shows a better ability to correctly identify class 0 (Did Not Survive) compared to class 1 (Survived), as indicated by the higher precision and recall metrics for class 0. A recall of 0.91 for class 0 means that the model was able to correctly identify 91% of all the actual instances of class 0, but for class 1, the recall is 0.62, indicating that it was only able to correctly identify 62% of all the actual instances of class 1."
   ]
  }
 ],
 "metadata": {
  "kernelspec": {
   "display_name": "base",
   "language": "python",
   "name": "python3"
  },
  "language_info": {
   "codemirror_mode": {
    "name": "ipython",
    "version": 3
   },
   "file_extension": ".py",
   "mimetype": "text/x-python",
   "name": "python",
   "nbconvert_exporter": "python",
   "pygments_lexer": "ipython3",
   "version": "3.11.5"
  }
 },
 "nbformat": 4,
 "nbformat_minor": 2
}
